{
 "cells": [
  {
   "cell_type": "code",
   "execution_count": 1,
   "id": "3849a059-772f-48ce-b264-7d805c58507b",
   "metadata": {},
   "outputs": [],
   "source": [
    "import pandas as pd\n",
    "import numpy as np\n",
    "import matplotlib.pyplot as plt\n",
    "import seaborn as sns\n",
    "from sklearn.model_selection import train_test_split\n",
    "from sklearn.preprocessing import StandardScaler\n",
    "from sklearn.ensemble import RandomForestClassifier\n",
    "from sklearn.metrics import classification_report, confusion_matrix, accuracy_score\n"
   ]
  },
  {
   "cell_type": "code",
   "execution_count": 2,
   "id": "a80add8b-296b-4923-ad73-d63c59f07906",
   "metadata": {},
   "outputs": [
    {
     "name": "stdout",
     "output_type": "stream",
     "text": [
      "        Id  Age  Gender Hormonal Changes Family History    Race/Ethnicity  \\\n",
      "0  1734616   69  Female           Normal            Yes             Asian   \n",
      "1  1419098   32  Female           Normal            Yes             Asian   \n",
      "2  1797916   89  Female   Postmenopausal             No         Caucasian   \n",
      "3  1805337   78  Female           Normal             No         Caucasian   \n",
      "4  1351334   38    Male   Postmenopausal            Yes  African American   \n",
      "\n",
      "   Body Weight Calcium Intake Vitamin D Intake Physical Activity Smoking  \\\n",
      "0  Underweight            Low       Sufficient         Sedentary     Yes   \n",
      "1  Underweight            Low       Sufficient         Sedentary      No   \n",
      "2       Normal       Adequate       Sufficient            Active      No   \n",
      "3  Underweight       Adequate     Insufficient         Sedentary     Yes   \n",
      "4       Normal            Low       Sufficient            Active     Yes   \n",
      "\n",
      "  Alcohol Consumption    Medical Conditions      Medications Prior Fractures  \\\n",
      "0            Moderate  Rheumatoid Arthritis  Corticosteroids             Yes   \n",
      "1                 NaN                   NaN              NaN             Yes   \n",
      "2            Moderate       Hyperthyroidism  Corticosteroids              No   \n",
      "3                 NaN  Rheumatoid Arthritis  Corticosteroids              No   \n",
      "4                 NaN  Rheumatoid Arthritis              NaN             Yes   \n",
      "\n",
      "   Osteoporosis  \n",
      "0             1  \n",
      "1             1  \n",
      "2             1  \n",
      "3             1  \n",
      "4             1  \n"
     ]
    }
   ],
   "source": [
    "file_path = 'osteoporosis.csv'\n",
    "data = pd.read_csv(file_path)\n",
    "\n",
    "print(data.head())\n"
   ]
  },
  {
   "cell_type": "code",
   "execution_count": 3,
   "id": "dd87b166-6d89-4ed7-b473-1ffe3957822a",
   "metadata": {},
   "outputs": [
    {
     "name": "stdout",
     "output_type": "stream",
     "text": [
      "<class 'pandas.core.frame.DataFrame'>\n",
      "RangeIndex: 1958 entries, 0 to 1957\n",
      "Data columns (total 16 columns):\n",
      " #   Column               Non-Null Count  Dtype \n",
      "---  ------               --------------  ----- \n",
      " 0   Id                   1958 non-null   int64 \n",
      " 1   Age                  1958 non-null   int64 \n",
      " 2   Gender               1958 non-null   object\n",
      " 3   Hormonal Changes     1958 non-null   object\n",
      " 4   Family History       1958 non-null   object\n",
      " 5   Race/Ethnicity       1958 non-null   object\n",
      " 6   Body Weight          1958 non-null   object\n",
      " 7   Calcium Intake       1958 non-null   object\n",
      " 8   Vitamin D Intake     1958 non-null   object\n",
      " 9   Physical Activity    1958 non-null   object\n",
      " 10  Smoking              1958 non-null   object\n",
      " 11  Alcohol Consumption  970 non-null    object\n",
      " 12  Medical Conditions   1311 non-null   object\n",
      " 13  Medications          973 non-null    object\n",
      " 14  Prior Fractures      1958 non-null   object\n",
      " 15  Osteoporosis         1958 non-null   int64 \n",
      "dtypes: int64(3), object(13)\n",
      "memory usage: 244.9+ KB\n"
     ]
    }
   ],
   "source": [
    "(data.info())"
   ]
  },
  {
   "cell_type": "code",
   "execution_count": 4,
   "id": "7d2875df-b998-4706-a963-390b8543800a",
   "metadata": {},
   "outputs": [
    {
     "data": {
      "text/html": [
       "<div>\n",
       "<style scoped>\n",
       "    .dataframe tbody tr th:only-of-type {\n",
       "        vertical-align: middle;\n",
       "    }\n",
       "\n",
       "    .dataframe tbody tr th {\n",
       "        vertical-align: top;\n",
       "    }\n",
       "\n",
       "    .dataframe thead th {\n",
       "        text-align: right;\n",
       "    }\n",
       "</style>\n",
       "<table border=\"1\" class=\"dataframe\">\n",
       "  <thead>\n",
       "    <tr style=\"text-align: right;\">\n",
       "      <th></th>\n",
       "      <th>Id</th>\n",
       "      <th>Age</th>\n",
       "      <th>Osteoporosis</th>\n",
       "    </tr>\n",
       "  </thead>\n",
       "  <tbody>\n",
       "    <tr>\n",
       "      <th>count</th>\n",
       "      <td>1.958000e+03</td>\n",
       "      <td>1958.000000</td>\n",
       "      <td>1958.000000</td>\n",
       "    </tr>\n",
       "    <tr>\n",
       "      <th>mean</th>\n",
       "      <td>1.549929e+06</td>\n",
       "      <td>39.101124</td>\n",
       "      <td>0.500000</td>\n",
       "    </tr>\n",
       "    <tr>\n",
       "      <th>std</th>\n",
       "      <td>2.614250e+05</td>\n",
       "      <td>21.355424</td>\n",
       "      <td>0.500128</td>\n",
       "    </tr>\n",
       "    <tr>\n",
       "      <th>min</th>\n",
       "      <td>1.100064e+06</td>\n",
       "      <td>18.000000</td>\n",
       "      <td>0.000000</td>\n",
       "    </tr>\n",
       "    <tr>\n",
       "      <th>25%</th>\n",
       "      <td>1.319163e+06</td>\n",
       "      <td>21.000000</td>\n",
       "      <td>0.000000</td>\n",
       "    </tr>\n",
       "    <tr>\n",
       "      <th>50%</th>\n",
       "      <td>1.546028e+06</td>\n",
       "      <td>32.000000</td>\n",
       "      <td>0.500000</td>\n",
       "    </tr>\n",
       "    <tr>\n",
       "      <th>75%</th>\n",
       "      <td>1.775870e+06</td>\n",
       "      <td>53.000000</td>\n",
       "      <td>1.000000</td>\n",
       "    </tr>\n",
       "    <tr>\n",
       "      <th>max</th>\n",
       "      <td>1.999676e+06</td>\n",
       "      <td>90.000000</td>\n",
       "      <td>1.000000</td>\n",
       "    </tr>\n",
       "  </tbody>\n",
       "</table>\n",
       "</div>"
      ],
      "text/plain": [
       "                 Id          Age  Osteoporosis\n",
       "count  1.958000e+03  1958.000000   1958.000000\n",
       "mean   1.549929e+06    39.101124      0.500000\n",
       "std    2.614250e+05    21.355424      0.500128\n",
       "min    1.100064e+06    18.000000      0.000000\n",
       "25%    1.319163e+06    21.000000      0.000000\n",
       "50%    1.546028e+06    32.000000      0.500000\n",
       "75%    1.775870e+06    53.000000      1.000000\n",
       "max    1.999676e+06    90.000000      1.000000"
      ]
     },
     "execution_count": 4,
     "metadata": {},
     "output_type": "execute_result"
    }
   ],
   "source": [
    "data.describe()"
   ]
  },
  {
   "cell_type": "code",
   "execution_count": 5,
   "id": "5cf8b78c-1703-4ca9-84e8-3be53f1e95bf",
   "metadata": {},
   "outputs": [
    {
     "data": {
      "text/plain": [
       "(1958, 16)"
      ]
     },
     "execution_count": 5,
     "metadata": {},
     "output_type": "execute_result"
    }
   ],
   "source": [
    "data.shape"
   ]
  },
  {
   "cell_type": "code",
   "execution_count": 6,
   "id": "7cb24b37-b97e-4f2d-90d8-ba86e93a7dbd",
   "metadata": {},
   "outputs": [
    {
     "data": {
      "text/plain": [
       "Id                       0\n",
       "Age                      0\n",
       "Gender                   0\n",
       "Hormonal Changes         0\n",
       "Family History           0\n",
       "Race/Ethnicity           0\n",
       "Body Weight              0\n",
       "Calcium Intake           0\n",
       "Vitamin D Intake         0\n",
       "Physical Activity        0\n",
       "Smoking                  0\n",
       "Alcohol Consumption    988\n",
       "Medical Conditions     647\n",
       "Medications            985\n",
       "Prior Fractures          0\n",
       "Osteoporosis             0\n",
       "dtype: int64"
      ]
     },
     "execution_count": 6,
     "metadata": {},
     "output_type": "execute_result"
    }
   ],
   "source": [
    "data.isnull().sum()"
   ]
  },
  {
   "cell_type": "code",
   "execution_count": 7,
   "id": "4eaf2cee-956a-4e1f-82ea-a5fac593c579",
   "metadata": {},
   "outputs": [
    {
     "name": "stdout",
     "output_type": "stream",
     "text": [
      "Id                      int64\n",
      "Age                     int64\n",
      "Gender                 object\n",
      "Hormonal Changes       object\n",
      "Family History         object\n",
      "Race/Ethnicity         object\n",
      "Body Weight            object\n",
      "Calcium Intake         object\n",
      "Vitamin D Intake       object\n",
      "Physical Activity      object\n",
      "Smoking                object\n",
      "Alcohol Consumption    object\n",
      "Medical Conditions     object\n",
      "Medications            object\n",
      "Prior Fractures        object\n",
      "Osteoporosis            int64\n",
      "dtype: object\n"
     ]
    }
   ],
   "source": [
    "print(data.dtypes)\n"
   ]
  },
  {
   "cell_type": "code",
   "execution_count": 8,
   "id": "c41d2ae0-f640-4931-b4f0-18dfb256c870",
   "metadata": {},
   "outputs": [],
   "source": [
    "data['Alcohol Consumption'] = pd.to_numeric(data['Alcohol Consumption'], errors='coerce')\n",
    "\n",
    "if data['Alcohol Consumption'].notna().sum() > 0: \n",
    "    data['Alcohol Consumption'] = data['Alcohol Consumption'].fillna(data['Alcohol Consumption'].mean())\n",
    "else:\n",
    "    data['Alcohol Consumption'] = data['Alcohol Consumption'].fillna(0)\n",
    "\n",
    "if data['Medical Conditions'].dtype == 'object':  \n",
    "    medical_conditions_mode = data['Medical Conditions'].mode()[0]  \n",
    "    data['Medical Conditions'] = data['Medical Conditions'].fillna(medical_conditions_mode)\n",
    "else:\n",
    "    data['Medical Conditions'] = data['Medical Conditions'].fillna(data['Medical Conditions'].median())\n",
    "\n",
    "medications_mode = data['Medications'].mode()\n",
    "if not medications_mode.empty:\n",
    "    data['Medications'] = data['Medications'].fillna(medications_mode[0])\n",
    "else:\n",
    "    data['Medications'] = data['Medications'].fillna(0)"
   ]
  },
  {
   "cell_type": "code",
   "execution_count": 9,
   "id": "b4badb71-6ebb-4626-b279-de0c0caacf4b",
   "metadata": {},
   "outputs": [
    {
     "data": {
      "text/plain": [
       "(1958, 16)"
      ]
     },
     "execution_count": 9,
     "metadata": {},
     "output_type": "execute_result"
    }
   ],
   "source": [
    "data.shape"
   ]
  },
  {
   "cell_type": "code",
   "execution_count": 10,
   "id": "61682b4f-ecf2-4834-94cd-e93debc184be",
   "metadata": {},
   "outputs": [
    {
     "data": {
      "text/plain": [
       "Id                     0\n",
       "Age                    0\n",
       "Gender                 0\n",
       "Hormonal Changes       0\n",
       "Family History         0\n",
       "Race/Ethnicity         0\n",
       "Body Weight            0\n",
       "Calcium Intake         0\n",
       "Vitamin D Intake       0\n",
       "Physical Activity      0\n",
       "Smoking                0\n",
       "Alcohol Consumption    0\n",
       "Medical Conditions     0\n",
       "Medications            0\n",
       "Prior Fractures        0\n",
       "Osteoporosis           0\n",
       "dtype: int64"
      ]
     },
     "execution_count": 10,
     "metadata": {},
     "output_type": "execute_result"
    }
   ],
   "source": [
    "data.isnull().sum()"
   ]
  },
  {
   "cell_type": "code",
   "execution_count": 11,
   "id": "df8df7e3-40fd-467b-b6ef-51e490729bcc",
   "metadata": {},
   "outputs": [
    {
     "data": {
      "text/plain": [
       "Index(['Id', 'Age', 'Gender', 'Hormonal Changes', 'Family History',\n",
       "       'Race/Ethnicity', 'Body Weight', 'Calcium Intake', 'Vitamin D Intake',\n",
       "       'Physical Activity', 'Smoking', 'Alcohol Consumption',\n",
       "       'Medical Conditions', 'Medications', 'Prior Fractures', 'Osteoporosis'],\n",
       "      dtype='object')"
      ]
     },
     "execution_count": 11,
     "metadata": {},
     "output_type": "execute_result"
    }
   ],
   "source": [
    "data.columns"
   ]
  },
  {
   "cell_type": "code",
   "execution_count": 12,
   "id": "22a2bca4-bd1d-468f-93f0-2205c0edcea0",
   "metadata": {},
   "outputs": [
    {
     "data": {
      "text/plain": [
       "Osteoporosis\n",
       "1    979\n",
       "0    979\n",
       "Name: count, dtype: int64"
      ]
     },
     "execution_count": 12,
     "metadata": {},
     "output_type": "execute_result"
    }
   ],
   "source": [
    "data['Osteoporosis'].value_counts()"
   ]
  },
  {
   "cell_type": "code",
   "execution_count": 13,
   "id": "4a3b6e7c-2978-47ca-901e-a2608cca8768",
   "metadata": {},
   "outputs": [],
   "source": [
    "data = pd.get_dummies(data, drop_first=True)"
   ]
  },
  {
   "cell_type": "code",
   "execution_count": 14,
   "id": "44532f04-5613-4916-885c-1224af05135c",
   "metadata": {},
   "outputs": [],
   "source": [
    "x = data.drop('Osteoporosis', axis=1) \n",
    "y = data['Osteoporosis']\n"
   ]
  },
  {
   "cell_type": "code",
   "execution_count": 15,
   "id": "23cead1b-d422-4bad-80f7-dc352778e0a8",
   "metadata": {},
   "outputs": [
    {
     "data": {
      "text/plain": [
       "(1958, 15)"
      ]
     },
     "execution_count": 15,
     "metadata": {},
     "output_type": "execute_result"
    }
   ],
   "source": [
    "x.shape"
   ]
  },
  {
   "cell_type": "code",
   "execution_count": 16,
   "id": "d878eae9-834e-4f7a-9f69-27b5ff330270",
   "metadata": {},
   "outputs": [
    {
     "data": {
      "text/html": [
       "<div>\n",
       "<style scoped>\n",
       "    .dataframe tbody tr th:only-of-type {\n",
       "        vertical-align: middle;\n",
       "    }\n",
       "\n",
       "    .dataframe tbody tr th {\n",
       "        vertical-align: top;\n",
       "    }\n",
       "\n",
       "    .dataframe thead th {\n",
       "        text-align: right;\n",
       "    }\n",
       "</style>\n",
       "<table border=\"1\" class=\"dataframe\">\n",
       "  <thead>\n",
       "    <tr style=\"text-align: right;\">\n",
       "      <th></th>\n",
       "      <th>Id</th>\n",
       "      <th>Age</th>\n",
       "      <th>Alcohol Consumption</th>\n",
       "      <th>Gender_Male</th>\n",
       "      <th>Hormonal Changes_Postmenopausal</th>\n",
       "      <th>Family History_Yes</th>\n",
       "      <th>Race/Ethnicity_Asian</th>\n",
       "      <th>Race/Ethnicity_Caucasian</th>\n",
       "      <th>Body Weight_Underweight</th>\n",
       "      <th>Calcium Intake_Low</th>\n",
       "      <th>Vitamin D Intake_Sufficient</th>\n",
       "      <th>Physical Activity_Sedentary</th>\n",
       "      <th>Smoking_Yes</th>\n",
       "      <th>Medical Conditions_Rheumatoid Arthritis</th>\n",
       "      <th>Prior Fractures_Yes</th>\n",
       "    </tr>\n",
       "  </thead>\n",
       "  <tbody>\n",
       "    <tr>\n",
       "      <th>0</th>\n",
       "      <td>1734616</td>\n",
       "      <td>69</td>\n",
       "      <td>0.0</td>\n",
       "      <td>False</td>\n",
       "      <td>False</td>\n",
       "      <td>True</td>\n",
       "      <td>True</td>\n",
       "      <td>False</td>\n",
       "      <td>True</td>\n",
       "      <td>True</td>\n",
       "      <td>True</td>\n",
       "      <td>True</td>\n",
       "      <td>True</td>\n",
       "      <td>True</td>\n",
       "      <td>True</td>\n",
       "    </tr>\n",
       "    <tr>\n",
       "      <th>1</th>\n",
       "      <td>1419098</td>\n",
       "      <td>32</td>\n",
       "      <td>0.0</td>\n",
       "      <td>False</td>\n",
       "      <td>False</td>\n",
       "      <td>True</td>\n",
       "      <td>True</td>\n",
       "      <td>False</td>\n",
       "      <td>True</td>\n",
       "      <td>True</td>\n",
       "      <td>True</td>\n",
       "      <td>True</td>\n",
       "      <td>False</td>\n",
       "      <td>False</td>\n",
       "      <td>True</td>\n",
       "    </tr>\n",
       "    <tr>\n",
       "      <th>2</th>\n",
       "      <td>1797916</td>\n",
       "      <td>89</td>\n",
       "      <td>0.0</td>\n",
       "      <td>False</td>\n",
       "      <td>True</td>\n",
       "      <td>False</td>\n",
       "      <td>False</td>\n",
       "      <td>True</td>\n",
       "      <td>False</td>\n",
       "      <td>False</td>\n",
       "      <td>True</td>\n",
       "      <td>False</td>\n",
       "      <td>False</td>\n",
       "      <td>False</td>\n",
       "      <td>False</td>\n",
       "    </tr>\n",
       "    <tr>\n",
       "      <th>3</th>\n",
       "      <td>1805337</td>\n",
       "      <td>78</td>\n",
       "      <td>0.0</td>\n",
       "      <td>False</td>\n",
       "      <td>False</td>\n",
       "      <td>False</td>\n",
       "      <td>False</td>\n",
       "      <td>True</td>\n",
       "      <td>True</td>\n",
       "      <td>False</td>\n",
       "      <td>False</td>\n",
       "      <td>True</td>\n",
       "      <td>True</td>\n",
       "      <td>True</td>\n",
       "      <td>False</td>\n",
       "    </tr>\n",
       "    <tr>\n",
       "      <th>4</th>\n",
       "      <td>1351334</td>\n",
       "      <td>38</td>\n",
       "      <td>0.0</td>\n",
       "      <td>True</td>\n",
       "      <td>True</td>\n",
       "      <td>True</td>\n",
       "      <td>False</td>\n",
       "      <td>False</td>\n",
       "      <td>False</td>\n",
       "      <td>True</td>\n",
       "      <td>True</td>\n",
       "      <td>False</td>\n",
       "      <td>True</td>\n",
       "      <td>True</td>\n",
       "      <td>True</td>\n",
       "    </tr>\n",
       "    <tr>\n",
       "      <th>...</th>\n",
       "      <td>...</td>\n",
       "      <td>...</td>\n",
       "      <td>...</td>\n",
       "      <td>...</td>\n",
       "      <td>...</td>\n",
       "      <td>...</td>\n",
       "      <td>...</td>\n",
       "      <td>...</td>\n",
       "      <td>...</td>\n",
       "      <td>...</td>\n",
       "      <td>...</td>\n",
       "      <td>...</td>\n",
       "      <td>...</td>\n",
       "      <td>...</td>\n",
       "      <td>...</td>\n",
       "    </tr>\n",
       "    <tr>\n",
       "      <th>1953</th>\n",
       "      <td>1991635</td>\n",
       "      <td>19</td>\n",
       "      <td>0.0</td>\n",
       "      <td>False</td>\n",
       "      <td>False</td>\n",
       "      <td>True</td>\n",
       "      <td>False</td>\n",
       "      <td>False</td>\n",
       "      <td>False</td>\n",
       "      <td>False</td>\n",
       "      <td>True</td>\n",
       "      <td>True</td>\n",
       "      <td>True</td>\n",
       "      <td>True</td>\n",
       "      <td>True</td>\n",
       "    </tr>\n",
       "    <tr>\n",
       "      <th>1954</th>\n",
       "      <td>1528601</td>\n",
       "      <td>23</td>\n",
       "      <td>0.0</td>\n",
       "      <td>False</td>\n",
       "      <td>True</td>\n",
       "      <td>True</td>\n",
       "      <td>False</td>\n",
       "      <td>True</td>\n",
       "      <td>True</td>\n",
       "      <td>True</td>\n",
       "      <td>False</td>\n",
       "      <td>False</td>\n",
       "      <td>False</td>\n",
       "      <td>False</td>\n",
       "      <td>False</td>\n",
       "    </tr>\n",
       "    <tr>\n",
       "      <th>1955</th>\n",
       "      <td>1990957</td>\n",
       "      <td>34</td>\n",
       "      <td>0.0</td>\n",
       "      <td>False</td>\n",
       "      <td>True</td>\n",
       "      <td>False</td>\n",
       "      <td>False</td>\n",
       "      <td>False</td>\n",
       "      <td>True</td>\n",
       "      <td>True</td>\n",
       "      <td>True</td>\n",
       "      <td>True</td>\n",
       "      <td>False</td>\n",
       "      <td>False</td>\n",
       "      <td>False</td>\n",
       "    </tr>\n",
       "    <tr>\n",
       "      <th>1956</th>\n",
       "      <td>1779848</td>\n",
       "      <td>25</td>\n",
       "      <td>0.0</td>\n",
       "      <td>True</td>\n",
       "      <td>True</td>\n",
       "      <td>False</td>\n",
       "      <td>False</td>\n",
       "      <td>False</td>\n",
       "      <td>False</td>\n",
       "      <td>True</td>\n",
       "      <td>False</td>\n",
       "      <td>True</td>\n",
       "      <td>True</td>\n",
       "      <td>True</td>\n",
       "      <td>True</td>\n",
       "    </tr>\n",
       "    <tr>\n",
       "      <th>1957</th>\n",
       "      <td>1282963</td>\n",
       "      <td>26</td>\n",
       "      <td>0.0</td>\n",
       "      <td>False</td>\n",
       "      <td>True</td>\n",
       "      <td>False</td>\n",
       "      <td>False</td>\n",
       "      <td>False</td>\n",
       "      <td>True</td>\n",
       "      <td>False</td>\n",
       "      <td>True</td>\n",
       "      <td>True</td>\n",
       "      <td>True</td>\n",
       "      <td>True</td>\n",
       "      <td>False</td>\n",
       "    </tr>\n",
       "  </tbody>\n",
       "</table>\n",
       "<p>1958 rows × 15 columns</p>\n",
       "</div>"
      ],
      "text/plain": [
       "           Id  Age  Alcohol Consumption  Gender_Male  \\\n",
       "0     1734616   69                  0.0        False   \n",
       "1     1419098   32                  0.0        False   \n",
       "2     1797916   89                  0.0        False   \n",
       "3     1805337   78                  0.0        False   \n",
       "4     1351334   38                  0.0         True   \n",
       "...       ...  ...                  ...          ...   \n",
       "1953  1991635   19                  0.0        False   \n",
       "1954  1528601   23                  0.0        False   \n",
       "1955  1990957   34                  0.0        False   \n",
       "1956  1779848   25                  0.0         True   \n",
       "1957  1282963   26                  0.0        False   \n",
       "\n",
       "      Hormonal Changes_Postmenopausal  Family History_Yes  \\\n",
       "0                               False                True   \n",
       "1                               False                True   \n",
       "2                                True               False   \n",
       "3                               False               False   \n",
       "4                                True                True   \n",
       "...                               ...                 ...   \n",
       "1953                            False                True   \n",
       "1954                             True                True   \n",
       "1955                             True               False   \n",
       "1956                             True               False   \n",
       "1957                             True               False   \n",
       "\n",
       "      Race/Ethnicity_Asian  Race/Ethnicity_Caucasian  Body Weight_Underweight  \\\n",
       "0                     True                     False                     True   \n",
       "1                     True                     False                     True   \n",
       "2                    False                      True                    False   \n",
       "3                    False                      True                     True   \n",
       "4                    False                     False                    False   \n",
       "...                    ...                       ...                      ...   \n",
       "1953                 False                     False                    False   \n",
       "1954                 False                      True                     True   \n",
       "1955                 False                     False                     True   \n",
       "1956                 False                     False                    False   \n",
       "1957                 False                     False                     True   \n",
       "\n",
       "      Calcium Intake_Low  Vitamin D Intake_Sufficient  \\\n",
       "0                   True                         True   \n",
       "1                   True                         True   \n",
       "2                  False                         True   \n",
       "3                  False                        False   \n",
       "4                   True                         True   \n",
       "...                  ...                          ...   \n",
       "1953               False                         True   \n",
       "1954                True                        False   \n",
       "1955                True                         True   \n",
       "1956                True                        False   \n",
       "1957               False                         True   \n",
       "\n",
       "      Physical Activity_Sedentary  Smoking_Yes  \\\n",
       "0                            True         True   \n",
       "1                            True        False   \n",
       "2                           False        False   \n",
       "3                            True         True   \n",
       "4                           False         True   \n",
       "...                           ...          ...   \n",
       "1953                         True         True   \n",
       "1954                        False        False   \n",
       "1955                         True        False   \n",
       "1956                         True         True   \n",
       "1957                         True         True   \n",
       "\n",
       "      Medical Conditions_Rheumatoid Arthritis  Prior Fractures_Yes  \n",
       "0                                        True                 True  \n",
       "1                                       False                 True  \n",
       "2                                       False                False  \n",
       "3                                        True                False  \n",
       "4                                        True                 True  \n",
       "...                                       ...                  ...  \n",
       "1953                                     True                 True  \n",
       "1954                                    False                False  \n",
       "1955                                    False                False  \n",
       "1956                                     True                 True  \n",
       "1957                                     True                False  \n",
       "\n",
       "[1958 rows x 15 columns]"
      ]
     },
     "execution_count": 16,
     "metadata": {},
     "output_type": "execute_result"
    }
   ],
   "source": [
    "x"
   ]
  },
  {
   "cell_type": "code",
   "execution_count": 17,
   "id": "38c69ddb-b929-4eae-a3b9-831541e734d2",
   "metadata": {},
   "outputs": [
    {
     "data": {
      "text/plain": [
       "(1958,)"
      ]
     },
     "execution_count": 17,
     "metadata": {},
     "output_type": "execute_result"
    }
   ],
   "source": [
    "y.shape"
   ]
  },
  {
   "cell_type": "code",
   "execution_count": 18,
   "id": "5cdf7712-fdd6-4b02-be66-ce72b3822d96",
   "metadata": {},
   "outputs": [
    {
     "data": {
      "text/plain": [
       "0       1\n",
       "1       1\n",
       "2       1\n",
       "3       1\n",
       "4       1\n",
       "       ..\n",
       "1953    0\n",
       "1954    0\n",
       "1955    0\n",
       "1956    0\n",
       "1957    0\n",
       "Name: Osteoporosis, Length: 1958, dtype: int64"
      ]
     },
     "execution_count": 18,
     "metadata": {},
     "output_type": "execute_result"
    }
   ],
   "source": [
    "y"
   ]
  },
  {
   "cell_type": "code",
   "execution_count": 19,
   "id": "968c55fe-87ba-4bba-9331-a45e5a69d562",
   "metadata": {},
   "outputs": [],
   "source": [
    "x_train, x_test, y_train, y_test = train_test_split(x, y, test_size=0.3, random_state=42)\n"
   ]
  },
  {
   "cell_type": "code",
   "execution_count": 20,
   "id": "0a5b35c4-afed-4094-bb41-9b09183194b7",
   "metadata": {},
   "outputs": [
    {
     "data": {
      "text/plain": [
       "(1370, 15)"
      ]
     },
     "execution_count": 20,
     "metadata": {},
     "output_type": "execute_result"
    }
   ],
   "source": [
    "x_train.shape"
   ]
  },
  {
   "cell_type": "code",
   "execution_count": 21,
   "id": "49584616-5599-44f2-8c7a-ff5dc286a0c3",
   "metadata": {},
   "outputs": [
    {
     "data": {
      "text/plain": [
       "(588, 15)"
      ]
     },
     "execution_count": 21,
     "metadata": {},
     "output_type": "execute_result"
    }
   ],
   "source": [
    "x_test.shape"
   ]
  },
  {
   "cell_type": "code",
   "execution_count": 22,
   "id": "32f51bcd-cd3e-407e-81a7-9636eb7cb074",
   "metadata": {},
   "outputs": [
    {
     "data": {
      "text/plain": [
       "(1370,)"
      ]
     },
     "execution_count": 22,
     "metadata": {},
     "output_type": "execute_result"
    }
   ],
   "source": [
    "y_train.shape"
   ]
  },
  {
   "cell_type": "code",
   "execution_count": 23,
   "id": "53dc77d0-80f2-46fe-9618-a86ec71265ad",
   "metadata": {},
   "outputs": [
    {
     "data": {
      "text/plain": [
       "(588,)"
      ]
     },
     "execution_count": 23,
     "metadata": {},
     "output_type": "execute_result"
    }
   ],
   "source": [
    "y_test.shape"
   ]
  },
  {
   "cell_type": "markdown",
   "id": "a4befa55-cea7-4c7d-83ab-41ba3b92f998",
   "metadata": {},
   "source": [
    "Decision Tree"
   ]
  },
  {
   "cell_type": "code",
   "execution_count": 39,
   "id": "6f3c8fbe-b81a-4304-987c-f4c3747e987a",
   "metadata": {},
   "outputs": [
    {
     "data": {
      "text/plain": [
       "0.8333333333333334"
      ]
     },
     "execution_count": 39,
     "metadata": {},
     "output_type": "execute_result"
    }
   ],
   "source": [
    "from sklearn.tree import DecisionTreeClassifier\n",
    "from sklearn import metrics\n",
    "\n",
    "DTC = DecisionTreeClassifier()\n",
    "DTC = DTC.fit(x_train, y_train)\n",
    "y_pred = DTC.predict(x_test)\n",
    "DecisionTreeClassif = metrics.accuracy_score(y_test, y_pred)\n",
    "DecisionTreeClassif"
   ]
  },
  {
   "cell_type": "markdown",
   "id": "3c9c6f3c-9a65-4e3d-9f0c-ee67ae9f6d1d",
   "metadata": {},
   "source": [
    " Logistic Regression\n"
   ]
  },
  {
   "cell_type": "code",
   "execution_count": 40,
   "id": "fff50e58-41e1-4b40-a891-96b36c935df6",
   "metadata": {},
   "outputs": [
    {
     "data": {
      "text/plain": [
       "0.8282312925170068"
      ]
     },
     "execution_count": 40,
     "metadata": {},
     "output_type": "execute_result"
    }
   ],
   "source": [
    "from sklearn.linear_model import LogisticRegression\n",
    "from sklearn import metrics\n",
    "\n",
    "log_reg = LogisticRegression(max_iter=1000)\n",
    "log_reg = log_reg.fit(x_train, y_train)\n",
    "y_pred = log_reg.predict(x_test)\n",
    "LogisticRegressionClassif = metrics.accuracy_score(y_test, y_pred)\n",
    "LogisticRegressionClassif"
   ]
  },
  {
   "cell_type": "markdown",
   "id": "a30430af-25f2-401d-bac2-53f95dcd646a",
   "metadata": {},
   "source": [
    "Random Forest"
   ]
  },
  {
   "cell_type": "code",
   "execution_count": 41,
   "id": "a0c1011e-67c9-4688-946a-f8c735a8ff8b",
   "metadata": {},
   "outputs": [
    {
     "data": {
      "text/plain": [
       "0.8469387755102041"
      ]
     },
     "execution_count": 41,
     "metadata": {},
     "output_type": "execute_result"
    }
   ],
   "source": [
    "from sklearn.ensemble import RandomForestClassifier\n",
    "clf2 = RandomForestClassifier()\n",
    "RFC = clf2.fit(x_train , y_train)\n",
    "y_pred = clf2.predict(x_test)\n",
    "RandomForestClassif = metrics.accuracy_score(y_test,y_pred)\n",
    "RandomForestClassif"
   ]
  },
  {
   "cell_type": "markdown",
   "id": "a3d77664-6107-4468-b6f9-b2059894abcc",
   "metadata": {},
   "source": [
    "Support Vector Machine"
   ]
  },
  {
   "cell_type": "code",
   "execution_count": 42,
   "id": "d68e4700-e200-4045-bd63-49249aea87cc",
   "metadata": {},
   "outputs": [
    {
     "data": {
      "text/plain": [
       "0.5255102040816326"
      ]
     },
     "execution_count": 42,
     "metadata": {},
     "output_type": "execute_result"
    }
   ],
   "source": [
    "from sklearn.svm import SVC\n",
    "SVM = SVC()\n",
    "SVM =SVM.fit(x_train,y_train)\n",
    "y_pred = SVM.predict(x_test)\n",
    "SupportVectorMachine = metrics.accuracy_score(y_test, y_pred)\n",
    "SupportVectorMachine"
   ]
  },
  {
   "cell_type": "markdown",
   "id": "1d5e7187-a30e-49f9-b3c0-b297ed2a716d",
   "metadata": {},
   "source": [
    "Neural Networks"
   ]
  },
  {
   "cell_type": "code",
   "execution_count": 43,
   "id": "53094445-e2b2-4388-aef5-51496b6ca878",
   "metadata": {},
   "outputs": [
    {
     "data": {
      "text/plain": [
       "0.5153061224489796"
      ]
     },
     "execution_count": 43,
     "metadata": {},
     "output_type": "execute_result"
    }
   ],
   "source": [
    "from sklearn.neural_network import MLPClassifier\n",
    "from sklearn import metrics\n",
    "\n",
    "mlp = MLPClassifier(hidden_layer_sizes=(100,), max_iter=1000)\n",
    "mlp = mlp.fit(x_train, y_train)\n",
    "y_pred = mlp.predict(x_test)\n",
    "NeuralNetworkClassif = metrics.accuracy_score(y_test, y_pred)\n",
    "NeuralNetworkClassif"
   ]
  },
  {
   "cell_type": "code",
   "execution_count": 44,
   "id": "89098bcd-5e8c-4e07-8cc6-35829f09c705",
   "metadata": {},
   "outputs": [
    {
     "data": {
      "text/plain": [
       "<function matplotlib.pyplot.show(close=None, block=None)>"
      ]
     },
     "execution_count": 44,
     "metadata": {},
     "output_type": "execute_result"
    },
    {
     "data": {
      "image/png": "[encoded data removed]",
      "text/plain": [
       "<Figure size 640x480 with 1 Axes>"
      ]
     },
     "metadata": {},
     "output_type": "display_data"
    }
   ],
   "source": [
    "import matplotlib.pyplot as plt\n",
    "accuracy_scores = [DecisionTreeClassif, RandomForestClassif, SupportVectorMachine,LogisticRegressionClassif,NeuralNetworkClassif]\n",
    "classifiers = ['Decision Tree', 'Random Forest', 'SVM','Logistic Regression','Neural Networks']\n",
    "plt.bar(classifiers,accuracy_scores,color=['blue','green','orange','red','purple'])\n",
    "plt.xlabel('Classifiers')\n",
    "plt.ylabel('Accuracy')\n",
    "plt.title('Classifier Accuracy Comparison')\n",
    "plt.ylim(0,1)\n",
    "plt.tight_layout()\n",
    "plt.show"
   ]
  },
  {
   "cell_type": "code",
   "execution_count": 45,
   "id": "00deb1ae-b753-4646-8137-acb4337684d2",
   "metadata": {},
   "outputs": [
    {
     "name": "stdout",
     "output_type": "stream",
     "text": [
      "Index(['Id', 'Age', 'Alcohol Consumption', 'Osteoporosis', 'Gender_Male',\n",
      "       'Hormonal Changes_Postmenopausal', 'Family History_Yes',\n",
      "       'Race/Ethnicity_Asian', 'Race/Ethnicity_Caucasian',\n",
      "       'Body Weight_Underweight', 'Calcium Intake_Low',\n",
      "       'Vitamin D Intake_Sufficient', 'Physical Activity_Sedentary',\n",
      "       'Smoking_Yes', 'Medical Conditions_Rheumatoid Arthritis',\n",
      "       'Prior Fractures_Yes'],\n",
      "      dtype='object')\n"
     ]
    }
   ],
   "source": [
    "print(data.columns) "
   ]
  },
  {
   "cell_type": "code",
   "execution_count": 46,
   "id": "0339db98-0310-4224-a2b5-7dd6a3707fbe",
   "metadata": {},
   "outputs": [],
   "source": [
    "model = RandomForestClassifier(n_estimators=100, random_state=42)\n",
    "model.fit(x_train, y_train)\n",
    "y_pred = model.predict(x_test)\n"
   ]
  },
  {
   "cell_type": "code",
   "execution_count": 47,
   "id": "0e3e69ac-b2d3-467a-9e77-d7a11cb0983a",
   "metadata": {},
   "outputs": [
    {
     "name": "stdout",
     "output_type": "stream",
     "text": [
      "Confusion Matrix:\n",
      " [[272  13]\n",
      " [ 73 230]]\n",
      "Classification Report:\n",
      "               precision    recall  f1-score   support\n",
      "\n",
      "           0       0.79      0.95      0.86       285\n",
      "           1       0.95      0.76      0.84       303\n",
      "\n",
      "    accuracy                           0.85       588\n",
      "   macro avg       0.87      0.86      0.85       588\n",
      "weighted avg       0.87      0.85      0.85       588\n",
      "\n",
      "Accuracy Score: 0.8537414965986394\n"
     ]
    }
   ],
   "source": [
    "print(\"Confusion Matrix:\\n\", confusion_matrix(y_test, y_pred))\n",
    "print(\"Classification Report:\\n\", classification_report(y_test, y_pred))\n",
    "print(\"Accuracy Score:\", accuracy_score(y_test, y_pred))"
   ]
  },
  {
   "cell_type": "code",
   "execution_count": 48,
   "id": "1836e52e-d933-42b8-8be9-2e394eb21282",
   "metadata": {},
   "outputs": [
    {
     "name": "stdout",
     "output_type": "stream",
     "text": [
      "Length of importances: 15\n",
      "Length of features: 15\n",
      "Sorted indices: [ 1  0  3  4 14  5  9 10 11 12 13  8  6  7  2]\n"
     ]
    },
    {
     "data": {
      "image/png": "[encoded data removed]",
      "text/plain": [
       "<Figure size 1200x600 with 1 Axes>"
      ]
     },
     "metadata": {},
     "output_type": "display_data"
    }
   ],
   "source": [
    "import numpy as np\n",
    "import seaborn as sns\n",
    "import matplotlib.pyplot as plt\n",
    "from sklearn.ensemble import RandomForestClassifier\n",
    "\n",
    "importances = model.feature_importances_\n",
    "\n",
    "features = x_train.columns\n",
    "print(f\"Length of importances: {len(importances)}\")\n",
    "print(f\"Length of features: {len(features)}\")\n",
    "indices = np.argsort(importances)[::-1]\n",
    "\n",
    "print(\"Sorted indices:\", indices)\n",
    "plt.figure(figsize=(12, 6))\n",
    "sns.barplot(x=importances[indices], y=features[indices])  \n",
    "plt.title(\"Feature Importances\")\n",
    "plt.show()\n"
   ]
  },
  {
   "cell_type": "code",
   "execution_count": 49,
   "id": "772b4afe-346e-429b-971b-2816952b8ff5",
   "metadata": {},
   "outputs": [
    {
     "data": {
      "text/plain": [
       "['osteoporosis_detection/osteoporosis_model.pkl']"
      ]
     },
     "execution_count": 49,
     "metadata": {},
     "output_type": "execute_result"
    }
   ],
   "source": [
    "import joblib\n",
    "from sklearn.ensemble import RandomForestClassifier\n",
    "\n",
    "model = RandomForestClassifier()\n",
    "model.fit(x_train, y_train) \n",
    "\n",
    "joblib.dump(model, 'osteoporosis_detection/osteoporosis_model.pkl')\n"
   ]
  },
  {
   "cell_type": "code",
   "execution_count": 35,
   "id": "0e319908-778c-464e-a893-21361ef70521",
   "metadata": {},
   "outputs": [
    {
     "name": "stdout",
     "output_type": "stream",
     "text": [
      "<class 'sklearn.ensemble._forest.RandomForestClassifier'>\n"
     ]
    }
   ],
   "source": [
    "model = joblib.load(open('osteoporosis_detection/osteoporosis_model.pkl', 'rb'))\n",
    "print(type(model))  \n"
   ]
  },
  {
   "cell_type": "code",
   "execution_count": 38,
   "id": "3f7271a6-760f-4c73-be94-013c976a0723",
   "metadata": {},
   "outputs": [],
   "source": [
    "import numpy as np\n",
    "import tkinter as tk\n",
    "from tkinter import messagebox\n",
    "from sklearn.ensemble import RandomForestClassifier\n",
    "from sklearn.datasets import make_classification\n",
    "\n",
    "X_dummy, y_dummy = make_classification(n_samples=100, n_features=14, random_state=42)\n",
    "model = RandomForestClassifier()\n",
    "model.fit(X_dummy, y_dummy)  \n",
    "\n",
    "root = tk.Tk()\n",
    "root.title(\"Osteoporosis Risk Detection\")\n",
    "root.geometry(\"350x450\") \n",
    "\n",
    "age_var = tk.IntVar(value=50)\n",
    "calcium_intake_var = tk.StringVar(value=\"Adequate\")\n",
    "vitamin_d_intake_var = tk.StringVar(value=\"Sufficient\")\n",
    "physical_activity_var = tk.StringVar(value=\"Active\")\n",
    "\n",
    "gender_var = tk.StringVar(value=\"Male\")\n",
    "weight_var = tk.StringVar(value=\"Normal\")\n",
    "race_var = tk.StringVar(value=\"Asian\")\n",
    "\n",
    "medical_conditions_var = tk.StringVar(value=\"None\")\n",
    "medications_var = tk.StringVar(value=\"None\")\n",
    "hormonal_changes_var = tk.StringVar(value=\"Normal\")\n",
    "\n",
    "family_history_var = tk.IntVar(value=0)\n",
    "smoking_var = tk.IntVar(value=0)\n",
    "alcohol_var = tk.IntVar(value=0)\n",
    "prior_fractures_var = tk.IntVar(value=0)\n",
    "\n",
    "\n",
    "def get_user_input():\n",
    "    race_mapping = {\"Asian\": 1, \"Caucasian\": 2, \"African American\": 3}\n",
    "    weight_mapping = {\"Underweight\": 1, \"Normal\": 2, \"Overweight\": 3}\n",
    "    calcium_mapping = {\"Low\": 0, \"Adequate\": 1}\n",
    "    vitamin_d_mapping = {\"Insufficient\": 0, \"Sufficient\": 1}\n",
    "    physical_activity_mapping = {\"Sedentary\": 0, \"Active\": 1}\n",
    "    medical_conditions_mapping = {\"None\": 0, \"Hyperthyroidism\": 1, \"Rheumatoid Arthritis\": 2}\n",
    "    medications_mapping = {\"None\": 0, \"Corticosteroids\": 1}\n",
    "    hormonal_changes_mapping = {\"Normal\": 0, \"Postmenopausal\": 1}\n",
    "\n",
    "    user_data = np.array([\n",
    "        age_var.get(),\n",
    "        alcohol_var.get(),\n",
    "        medical_conditions_mapping[medical_conditions_var.get()],\n",
    "        medications_mapping[medications_var.get()],\n",
    "        1 if gender_var.get() == \"Female\" else 0,  \n",
    "        hormonal_changes_mapping[hormonal_changes_var.get()],\n",
    "        family_history_var.get(),\n",
    "        race_mapping[race_var.get()],\n",
    "        weight_mapping[weight_var.get()],\n",
    "        calcium_mapping[calcium_intake_var.get()],\n",
    "        vitamin_d_mapping[vitamin_d_intake_var.get()],\n",
    "        physical_activity_mapping[physical_activity_var.get()],\n",
    "        smoking_var.get(),\n",
    "        prior_fractures_var.get()\n",
    "    ]).reshape(1, -1)\n",
    "\n",
    "    \n",
    "    probability = model.predict_proba(user_data)[0][1]  \n",
    "    percentage = round(probability * 100, 2)  \n",
    "\n",
    "    if probability >= 0.5:\n",
    "        messagebox.showinfo(\"Result\", f\"Osteoporosis is likely present with {percentage}% probability.\")\n",
    "    else:\n",
    "        messagebox.showinfo(\"Result\", f\"Osteoporosis is unlikely with {percentage}% probability.\")\n",
    "\n",
    "\n",
    "tk.Label(root, text=\"Age\").grid(row=0, column=0)\n",
    "tk.Entry(root, textvariable=age_var, width=5).grid(row=0, column=1)\n",
    "tk.Button(root, text=\"+\", command=lambda: age_var.set(age_var.get() + 1)).grid(row=0, column=2)\n",
    "tk.Button(root, text=\"-\", command=lambda: age_var.set(age_var.get() - 1)).grid(row=0, column=3)\n",
    "\n",
    "tk.Label(root, text=\"Alcohol Consumption\").grid(row=1, column=0)\n",
    "tk.Radiobutton(root, text=\"Yes\", variable=alcohol_var, value=1).grid(row=1, column=1)\n",
    "tk.Radiobutton(root, text=\"No\", variable=alcohol_var, value=0).grid(row=1, column=2)\n",
    "\n",
    "tk.Label(root, text=\"Medical Conditions\").grid(row=2, column=0)\n",
    "tk.OptionMenu(root, medical_conditions_var, \"None\", \"Hyperthyroidism\", \"Rheumatoid Arthritis\").grid(row=2, column=1)\n",
    "\n",
    "tk.Label(root, text=\"Medications\").grid(row=3, column=0)\n",
    "tk.OptionMenu(root, medications_var, \"None\", \"Corticosteroids\").grid(row=3, column=1)\n",
    "\n",
    "tk.Label(root, text=\"Gender\").grid(row=4, column=0)\n",
    "tk.Radiobutton(root, text=\"Male\", variable=gender_var, value=\"Male\").grid(row=4, column=1)\n",
    "tk.Radiobutton(root, text=\"Female\", variable=gender_var, value=\"Female\").grid(row=4, column=2)\n",
    "\n",
    "tk.Label(root, text=\"Hormonal Changes\").grid(row=5, column=0)\n",
    "tk.OptionMenu(root, hormonal_changes_var, \"Normal\", \"Postmenopausal\").grid(row=5, column=1)\n",
    "\n",
    "tk.Label(root, text=\"Family History\").grid(row=6, column=0)\n",
    "tk.Radiobutton(root, text=\"Yes\", variable=family_history_var, value=1).grid(row=6, column=1)\n",
    "tk.Radiobutton(root, text=\"No\", variable=family_history_var, value=0).grid(row=6, column=2)\n",
    "\n",
    "tk.Label(root, text=\"Race\").grid(row=7, column=0)\n",
    "tk.OptionMenu(root, race_var, \"Asian\", \"Caucasian\", \"African American\").grid(row=7, column=1)\n",
    "\n",
    "tk.Label(root, text=\"Body Weight\").grid(row=8, column=0)\n",
    "tk.OptionMenu(root, weight_var, \"Underweight\", \"Normal\", \"Overweight\").grid(row=8, column=1)\n",
    "\n",
    "tk.Label(root, text=\"Calcium Intake\").grid(row=9, column=0)\n",
    "tk.OptionMenu(root, calcium_intake_var, \"Low\", \"Adequate\").grid(row=9, column=1)\n",
    "\n",
    "tk.Label(root, text=\"Vitamin D Intake\").grid(row=10, column=0)\n",
    "tk.OptionMenu(root, vitamin_d_intake_var, \"Insufficient\", \"Sufficient\").grid(row=10, column=1)\n",
    "\n",
    "tk.Label(root, text=\"Physical Activity\").grid(row=11, column=0)\n",
    "tk.OptionMenu(root, physical_activity_var, \"Sedentary\", \"Active\").grid(row=11, column=1)\n",
    "\n",
    "tk.Label(root, text=\"Smoking\").grid(row=12, column=0)\n",
    "tk.Radiobutton(root, text=\"Yes\", variable=smoking_var, value=1).grid(row=12, column=1)\n",
    "tk.Radiobutton(root, text=\"No\", variable=smoking_var, value=0).grid(row=12, column=2)\n",
    "\n",
    "tk.Label(root, text=\"Prior Fractures\").grid(row=13, column=0)\n",
    "tk.Radiobutton(root, text=\"Yes\", variable=prior_fractures_var, value=1).grid(row=13, column=1)\n",
    "tk.Radiobutton(root, text=\"No\", variable=prior_fractures_var, value=0).grid(row=13, column=2)\n",
    "\n",
    "tk.Button(root, text=\"Predict\", command=get_user_input).grid(row=14, column=0, columnspan=2)\n",
    "\n",
    "root.mainloop()\n"
   ]
  },
  {
   "cell_type": "markdown",
   "id": "17b23e92-b171-4835-ba34-c85c09859284",
   "metadata": {},
   "source": [
    "##### "
   ]
  },
  {
   "cell_type": "code",
   "execution_count": null,
   "id": "3ec296e6-e540-4dc5-b1e4-ed3d43017836",
   "metadata": {},
   "outputs": [],
   "source": []
  }
 ],
 "metadata": {
  "kernelspec": {
   "display_name": "Python 3 (ipykernel)",
   "language": "python",
   "name": "python3"
  },
  "language_info": {
   "codemirror_mode": {
    "name": "ipython",
    "version": 3
   },
   "file_extension": ".py",
   "mimetype": "text/x-python",
   "name": "python",
   "nbconvert_exporter": "python",
   "pygments_lexer": "ipython3",
   "version": "3.11.4"
  }
 },
 "nbformat": 4,
 "nbformat_minor": 5
}
